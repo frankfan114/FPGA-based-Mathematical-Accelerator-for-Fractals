{
 "cells": [
  {
   "cell_type": "code",
   "execution_count": 1,
   "id": "cde06779-bdb3-48b5-b5ef-bc86911d1885",
   "metadata": {},
   "outputs": [
    {
     "data": {
      "application/javascript": [
       "\n",
       "try {\n",
       "require(['notebook/js/codecell'], function(codecell) {\n",
       "  codecell.CodeCell.options_default.highlight_modes[\n",
       "      'magic_text/x-csrc'] = {'reg':[/^%%microblaze/]};\n",
       "  Jupyter.notebook.events.one('kernel_ready.Kernel', function(){\n",
       "      Jupyter.notebook.get_cells().map(function(cell){\n",
       "          if (cell.cell_type == 'code'){ cell.auto_highlight(); } }) ;\n",
       "  });\n",
       "});\n",
       "} catch (e) {};\n"
      ]
     },
     "metadata": {},
     "output_type": "display_data"
    },
    {
     "data": {
      "application/javascript": [
       "\n",
       "try {\n",
       "require(['notebook/js/codecell'], function(codecell) {\n",
       "  codecell.CodeCell.options_default.highlight_modes[\n",
       "      'magic_text/x-csrc'] = {'reg':[/^%%pybind11/]};\n",
       "  Jupyter.notebook.events.one('kernel_ready.Kernel', function(){\n",
       "      Jupyter.notebook.get_cells().map(function(cell){\n",
       "          if (cell.cell_type == 'code'){ cell.auto_highlight(); } }) ;\n",
       "  });\n",
       "});\n",
       "} catch (e) {};\n"
      ]
     },
     "metadata": {},
     "output_type": "display_data"
    },
    {
     "data": {
      "image/png": "[encoded data removed]",
      "text/plain": [
       "<PIL.Image.Image image mode=RGB size=640x480 at 0xAC9AC2E0>"
      ]
     },
     "execution_count": 1,
     "metadata": {},
     "output_type": "execute_result"
    }
   ],
   "source": [
    "# <codecell>\n",
    "from pynq import Overlay\n",
    "from pynq.lib.video import *\n",
    "overlay = Overlay(\"/home/xilinx/jupyter_notebooks/base.bit\")\n",
    "imgen_vdma = overlay.video.axi_vdma_0.readchannel\n",
    "pixgen = overlay.pixel_generator_0\n",
    "X_SIZE = pixgen.register_map.gp0[31:16] ## default 640*480\n",
    "Y_SIZE = pixgen.register_map.gp0[15:0]\n",
    "videoMode = common.VideoMode(X_SIZE, Y_SIZE, 24)\n",
    "imgen_vdma.mode = videoMode\n",
    "imgen_vdma.start()\n",
    "import PIL.Image\n",
    "\n",
    "\n",
    "frame = imgen_vdma.readframe()\n",
    "image = PIL.Image.fromarray(frame)\n",
    "image.save('output.png')\n",
    "image"
   ]
  },
  {
   "cell_type": "code",
   "execution_count": null,
   "id": "4f30f892-3078-4890-8877-49d6194c4244",
   "metadata": {},
   "outputs": [
    {
     "name": "stdout",
     "output_type": "stream",
     "text": [
      " * Serving Flask app '__main__' (lazy loading)\n",
      " * Environment: production\n",
      "\u001b[31m   WARNING: This is a development server. Do not use it in a production deployment.\u001b[0m\n",
      "\u001b[2m   Use a production WSGI server instead.\u001b[0m\n",
      " * Debug mode: off\n"
     ]
    },
    {
     "name": "stderr",
     "output_type": "stream",
     "text": [
      " * Running on all addresses (0.0.0.0)\n",
      "   WARNING: This is a development server. Do not use it in a production deployment.\n",
      " * Running on http://127.0.0.1:5011\n",
      " * Running on http://127.0.0.1:5011 (Press CTRL+C to quit)\n"
     ]
    },
    {
     "name": "stdout",
     "output_type": "stream",
     "text": [
      "{'max_real': 1, 'min_real': -1, 'max_imaginary': 1, 'min_imaginary': -1, 'max_iterations': 100, 'height': 480, 'width': 640, 'zoom_factor': 1, 'coordinate': 0}\n",
      "1\n"
     ]
    },
    {
     "name": "stderr",
     "output_type": "stream",
     "text": [
      "192.168.2.1 - - [22/Oct/2022 06:36:40] \"POST /generate_image HTTP/1.1\" 200 -\n"
     ]
    },
    {
     "name": "stdout",
     "output_type": "stream",
     "text": [
      "2\n",
      "3\n",
      "{'max_real': 1, 'min_real': -1, 'max_imaginary': 1, 'min_imaginary': -1, 'max_iterations': 100, 'height': 480, 'width': 600, 'zoom_factor': 1, 'coordinate': 0}\n",
      "1\n"
     ]
    },
    {
     "name": "stderr",
     "output_type": "stream",
     "text": [
      "192.168.2.1 - - [22/Oct/2022 06:37:28] \"POST /generate_image HTTP/1.1\" 200 -\n"
     ]
    },
    {
     "name": "stdout",
     "output_type": "stream",
     "text": [
      "2\n",
      "3\n",
      "{'max_real': 1, 'min_real': -1, 'max_imaginary': 1, 'min_imaginary': -1, 'max_iterations': 100, 'height': 480, 'width': 500, 'zoom_factor': 1, 'coordinate': 0}\n",
      "1\n"
     ]
    },
    {
     "name": "stderr",
     "output_type": "stream",
     "text": [
      "192.168.2.1 - - [22/Oct/2022 06:37:43] \"POST /generate_image HTTP/1.1\" 200 -\n"
     ]
    },
    {
     "name": "stdout",
     "output_type": "stream",
     "text": [
      "2\n",
      "3\n",
      "{'max_real': 1, 'min_real': -1, 'max_imaginary': 1, 'min_imaginary': -1, 'max_iterations': 100, 'height': 480, 'width': 600, 'zoom_factor': 1, 'coordinate': 0}\n",
      "1\n"
     ]
    },
    {
     "name": "stderr",
     "output_type": "stream",
     "text": [
      "192.168.2.1 - - [22/Oct/2022 06:38:09] \"POST /generate_image HTTP/1.1\" 200 -\n"
     ]
    },
    {
     "name": "stdout",
     "output_type": "stream",
     "text": [
      "2\n",
      "3\n"
     ]
    }
   ],
   "source": [
    "from flask import Flask, request, jsonify\n",
    "import asyncio\n",
    "import nest_asyncio\n",
    "#import PIL.Image\n",
    "import json\n",
    "import base64\n",
    "import io\n",
    "import concurrent.futures\n",
    "app = Flask(__name__)\n",
    "#executor = concurrent.futures.ThreadPoolExecutor()\n",
    "#nest_asyncio.apply()\n",
    "\n",
    "# async def generate_image_async_internal(data):\n",
    "    \n",
    "#     frame = imgen_vdma.readframe()\n",
    "#     image = PIL.Image.fromarray(frame)\n",
    "#     buffered = io.BytesIO()\n",
    "#     image.save(buffered, format=\"PNG\")\n",
    "#     img_str = base64.b64encode(buffered.getvalue()).decode('utf-8')\n",
    "#     return {\"image\": img_str}\n",
    "\n",
    "# def generate_image_async(data):\n",
    "#     loop = asyncio.new_event_loop()\n",
    "#     asyncio.set_event_loop(loop)\n",
    "#     result = loop.run_until_complete(generate_image_async_internal(data))\n",
    "#     loop.close()\n",
    "#     return result\n",
    "# async def read_frame():\n",
    "#     return await imgen_vdma.readframe()\n",
    "nest_asyncio.apply()\n",
    "loop = asyncio.new_event_loop()\n",
    "asyncio.set_event_loop(loop)\n",
    "async def read_frame():\n",
    "    await asyncio.sleep(1)  # 模拟异步操作\n",
    "    # 这里应该返回读取的图像帧数据\n",
    "    return imgen_vdma.readframe()\n",
    "\n",
    "@app.route('/generate_image', methods=['POST'])\n",
    "def generate_image():\n",
    "    # try:\n",
    "    if request.method == 'POST':\n",
    "        # 从POST请求中读取JSON数据\n",
    "        data = request.get_json()\n",
    "        max_real = data.get('max_real')\n",
    "        min_real = data.get('min_real')\n",
    "        max_imaginary = data.get('max_imaginary')\n",
    "        min_imaginary = data.get('min_imaginary')\n",
    "        max_iterations = data.get('max_iterations')\n",
    "        height = data.get('height')\n",
    "        width = data.get('width')\n",
    "        zoom_factor = data.get('zoom_factor')\n",
    "        coordinate = data.get('coordinate')\n",
    "        print(data)\n",
    "\n",
    "        # 设置视频模式\n",
    "        X_SIZE = pixgen.register_map.gp0[31:16] = width #500\n",
    "        Y_SIZE = pixgen.register_map.gp0[15:0] = height #500\n",
    "\n",
    "        videoMode = common.VideoMode(X_SIZE, Y_SIZE, 24)\n",
    "        imgen_vdma.mode = videoMode\n",
    "        imgen_vdma.start()\n",
    "        print('1')\n",
    "        \n",
    "        # future = executor.submit(generate_image_async, data)\n",
    "        # result = future.result()\n",
    "       \n",
    "        # loop = asyncio.new_event_loop()\n",
    "        # asyncio.set_event_loop(loop)\n",
    "        # frame = loop.run_until_complete(read_frame())\n",
    "        # loop.close()\n",
    "        \n",
    "        #frame = await read_frame()\n",
    "        asyncio.set_event_loop(loop)\n",
    "        frame = loop.run_until_complete(read_frame())\n",
    "        \n",
    "        #frame = imgen_vdma.readframe()\n",
    "        print('2')\n",
    "        image = PIL.Image.fromarray(frame)\n",
    "        \n",
    "        \n",
    "        \n",
    "        buffered = io.BytesIO()\n",
    "        image.save(buffered, format=\"PNG\")\n",
    "        img_str = base64.b64encode(buffered.getvalue()).decode('utf-8')\n",
    "        print('3')\n",
    "        # 返回Base64编码的图片URL\n",
    "        #return jsonify({\"image_url\": f\"data:image/png;base64,{img_str}\"})\n",
    "        return jsonify({\"image\": img_str})\n",
    "        #return jsonify(result)\n",
    "    # except Exception as e:\n",
    "    #     return jsonify({\"error\": str(e)})\n",
    "    return jsonify({})\n",
    "    \n",
    "\n",
    "if __name__ == '__main__':\n",
    "    app.run(host='0.0.0.0', port=5011)\n",
    "\n",
    "\n"
   ]
  },
  {
   "cell_type": "code",
   "execution_count": null,
   "id": "95801774-dd38-4136-9712-3f4c11589d50",
   "metadata": {},
   "outputs": [],
   "source": []
  }
 ],
 "metadata": {
  "kernelspec": {
   "display_name": "Python 3 (ipykernel)",
   "language": "python",
   "name": "python3"
  },
  "language_info": {
   "codemirror_mode": {
    "name": "ipython",
    "version": 3
   },
   "file_extension": ".py",
   "mimetype": "text/x-python",
   "name": "python",
   "nbconvert_exporter": "python",
   "pygments_lexer": "ipython3",
   "version": "3.10.4"
  }
 },
 "nbformat": 4,
 "nbformat_minor": 5
}
