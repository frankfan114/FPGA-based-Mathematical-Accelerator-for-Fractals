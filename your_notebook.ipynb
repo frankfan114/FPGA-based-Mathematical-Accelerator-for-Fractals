{
 "cells": [
  {
   "cell_type": "code",
   "execution_count": null,
   "metadata": {},
   "outputs": [],
   "source": [
    "def my_function():\n",
    "    print(\"Hello from Jupyter!\")\n",
    "\n",
    "def another_function():\n",
    "    print(\"Another function was executed!\")\n"
   ]
  }
 ],
 "metadata": {
  "language_info": {
   "name": "python"
  }
 },
 "nbformat": 4,
 "nbformat_minor": 2
}
