{
 "cells": [
  {
   "cell_type": "markdown",
   "id": "2813cc99",
   "metadata": {
    "tags": []
   },
   "source": [
    "# ISSAC PYNQ-Z1 Hardware Image Generator\n",
    "\n",
    "Server Setup"
   ]
  },
  {
   "cell_type": "code",
   "execution_count": 1,
   "id": "4dfaf0b8",
   "metadata": {},
   "outputs": [
    {
     "data": {
      "application/javascript": [
       "\n",
       "try {\n",
       "require(['notebook/js/codecell'], function(codecell) {\n",
       "  codecell.CodeCell.options_default.highlight_modes[\n",
       "      'magic_text/x-csrc'] = {'reg':[/^%%microblaze/]};\n",
       "  Jupyter.notebook.events.one('kernel_ready.Kernel', function(){\n",
       "      Jupyter.notebook.get_cells().map(function(cell){\n",
       "          if (cell.cell_type == 'code'){ cell.auto_highlight(); } }) ;\n",
       "  });\n",
       "});\n",
       "} catch (e) {};\n"
      ]
     },
     "metadata": {},
     "output_type": "display_data"
    },
    {
     "data": {
      "application/javascript": [
       "\n",
       "try {\n",
       "require(['notebook/js/codecell'], function(codecell) {\n",
       "  codecell.CodeCell.options_default.highlight_modes[\n",
       "      'magic_text/x-csrc'] = {'reg':[/^%%pybind11/]};\n",
       "  Jupyter.notebook.events.one('kernel_ready.Kernel', function(){\n",
       "      Jupyter.notebook.get_cells().map(function(cell){\n",
       "          if (cell.cell_type == 'code'){ cell.auto_highlight(); } }) ;\n",
       "  });\n",
       "});\n",
       "} catch (e) {};\n"
      ]
     },
     "metadata": {},
     "output_type": "display_data"
    }
   ],
   "source": [
    "Wait to be loaded"
   ]
  },
  {
   "cell_type": "markdown",
   "id": "3c1bd803-5b8d-43fe-b41f-60dd74b92197",
   "metadata": {
    "tags": []
   },
   "source": [
    "Import the overlay with initial setting"
   ]
  },
  {
   "cell_type": "code",
   "execution_count": 1,
   "id": "0bb547d8-eb2c-4846-8aba-8acfa84e7bbb",
   "metadata": {},
   "outputs": [
    {
     "data": {
      "application/javascript": [
       "\n",
       "try {\n",
       "require(['notebook/js/codecell'], function(codecell) {\n",
       "  codecell.CodeCell.options_default.highlight_modes[\n",
       "      'magic_text/x-csrc'] = {'reg':[/^%%microblaze/]};\n",
       "  Jupyter.notebook.events.one('kernel_ready.Kernel', function(){\n",
       "      Jupyter.notebook.get_cells().map(function(cell){\n",
       "          if (cell.cell_type == 'code'){ cell.auto_highlight(); } }) ;\n",
       "  });\n",
       "});\n",
       "} catch (e) {};\n"
      ]
     },
     "metadata": {},
     "output_type": "display_data"
    },
    {
     "data": {
      "application/javascript": [
       "\n",
       "try {\n",
       "require(['notebook/js/codecell'], function(codecell) {\n",
       "  codecell.CodeCell.options_default.highlight_modes[\n",
       "      'magic_text/x-csrc'] = {'reg':[/^%%pybind11/]};\n",
       "  Jupyter.notebook.events.one('kernel_ready.Kernel', function(){\n",
       "      Jupyter.notebook.get_cells().map(function(cell){\n",
       "          if (cell.cell_type == 'code'){ cell.auto_highlight(); } }) ;\n",
       "  });\n",
       "});\n",
       "} catch (e) {};\n"
      ]
     },
     "metadata": {},
     "output_type": "display_data"
    }
   ],
   "source": [
    "from pynq import Overlay\n",
    "from pynq.lib.video import *\n",
    "overlay = Overlay(\"/home/xilinx/jupyter_notebooks/base.bit\")"
   ]
  },
  {
   "cell_type": "markdown",
   "id": "5943a220",
   "metadata": {},
   "source": [
    "Configure and start the VDMA connected to the pixel generator:"
   ]
  },
  {
   "cell_type": "code",
   "execution_count": 5,
   "id": "3786e8e2",
   "metadata": {},
   "outputs": [],
   "source": [
    "imgen_vdma = overlay.video.axi_vdma_0.readchannel\n",
    "pixgen = overlay.pixel_generator_0\n",
    "X_SIZE = pixgen.register_map.gp0[31:16] ## default 640*480\n",
    "Y_SIZE = pixgen.register_map.gp0[15:0]\n",
    "videoMode = common.VideoMode(X_SIZE, Y_SIZE, 24)\n",
    "imgen_vdma.mode = videoMode\n",
    "imgen_vdma.start()"
   ]
  },
  {
   "cell_type": "markdown",
   "id": "3b555f0c",
   "metadata": {},
   "source": [
    "Only run the cells below for modifying paramters(might need to store a value from the web to a register)"
   ]
  },
  {
   "cell_type": "code",
   "execution_count": 12,
   "id": "fb1279de",
   "metadata": {},
   "outputs": [],
   "source": [
    "pixgen.register_map.gp1[31:16] = 0x40 #Scale Factor"
   ]
  },
  {
   "cell_type": "code",
   "execution_count": 13,
   "id": "f59da17d",
   "metadata": {},
   "outputs": [],
   "source": [
    "pixgen.register_map.gp1[15:0] = 0x64 #MAX_iteration"
   ]
  },
  {
   "cell_type": "code",
   "execution_count": 13,
   "id": "54008532-326b-4412-bb16-3148f73193b0",
   "metadata": {},
   "outputs": [],
   "source": []
  },
  {
   "cell_type": "markdown",
   "id": "926fba9a",
   "metadata": {},
   "source": [
    "The frame read by the VDMA can be displayed in the notebook using PiL:"
   ]
  },
  {
   "cell_type": "code",
   "execution_count": 6,
   "id": "7c3dd76a",
   "metadata": {},
   "outputs": [
    {
     "data": {
      "image/png": "[encoded data removed]",
      "text/plain": [
       "<PIL.Image.Image image mode=RGB size=640x480 at 0xAC88ABC8>"
      ]
     },
     "execution_count": 6,
     "metadata": {},
     "output_type": "execute_result"
    }
   ],
   "source": [
    "import PIL.Image\n",
    "frame = imgen_vdma.readframe()\n",
    "image = PIL.Image.fromarray(frame)\n",
    "image"
   ]
  },
  {
   "cell_type": "markdown",
   "id": "b35ebb3f",
   "metadata": {
    "tags": []
   },
   "source": [
    "### HDMI Output\n",
    "The HDMI output is configured and started:"
   ]
  },
  {
   "cell_type": "code",
   "execution_count": null,
   "id": "9d2a3279",
   "metadata": {},
   "outputs": [],
   "source": [
    "hdmi_out = overlay.video.hdmi_out\n",
    "hdmi_out._vdma = overlay.video.axi_vdma #Use the correct VDMA!\n",
    "hdmi_out.configure(videoMode)\n",
    "hdmi_out.start()\n",
    "hdmi_out.writeframe(frame)\n",
    "## needs to display the frame rate"
   ]
  },
  {
   "cell_type": "markdown",
   "id": "4486fa82",
   "metadata": {},
   "source": [
    "### Cleanup"
   ]
  },
  {
   "cell_type": "code",
   "execution_count": null,
   "id": "463b11d7",
   "metadata": {},
   "outputs": [],
   "source": [
    "imgen_vdma.stop()\n",
    "hdmi_out.close()"
   ]
  }
 ],
 "metadata": {
  "kernelspec": {
   "display_name": "Python 3 (ipykernel)",
   "language": "python",
   "name": "python3"
  },
  "language_info": {
   "codemirror_mode": {
    "name": "ipython",
    "version": 3
   },
   "file_extension": ".py",
   "mimetype": "text/x-python",
   "name": "python",
   "nbconvert_exporter": "python",
   "pygments_lexer": "ipython3",
   "version": "3.10.4"
  }
 },
 "nbformat": 4,
 "nbformat_minor": 5
}
